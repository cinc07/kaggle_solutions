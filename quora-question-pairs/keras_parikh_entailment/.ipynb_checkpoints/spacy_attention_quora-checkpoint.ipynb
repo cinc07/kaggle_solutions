{
 "cells": [
  {
   "cell_type": "code",
   "execution_count": 56,
   "metadata": {
    "collapsed": false
   },
   "outputs": [],
   "source": [
    "from __future__ import division, unicode_literals, print_function\n",
    "import spacy\n",
    "\n",
    "import plac\n",
    "from pathlib import Path\n",
    "import ujson as json\n",
    "import numpy\n",
    "from keras.utils.np_utils import to_categorical\n",
    "from keras.callbacks import EarlyStopping, ModelCheckpoint\n",
    "\n",
    "from spacy_hook import get_embeddings, get_word_ids\n",
    "from spacy_hook import create_similarity_pipeline\n",
    "\n",
    "from keras_decomposable_attention_quora import build_model\n",
    "\n",
    "try:\n",
    "    import cPickle as pickle\n",
    "except ImportError:\n",
    "    import pickle\n",
    "    \n",
    "import pandas as pd\n",
    "import numpy as np\n",
    "\n",
    "from tqdm import tqdm"
   ]
  },
  {
   "cell_type": "code",
   "execution_count": 2,
   "metadata": {
    "collapsed": true
   },
   "outputs": [],
   "source": [
    "tree_truncate=False\n",
    "gru_encode=False\n",
    "max_length=100\n",
    "nr_hidden=100\n",
    "dropout=0.2\n",
    "learn_rate=0.001\n",
    "batch_size=100\n",
    "nr_epoch=5\n",
    "        \n",
    "shape = (max_length, nr_hidden, 1)\n",
    "\n",
    "settings = {\n",
    "    'lr': learn_rate,\n",
    "    'dropout': dropout,\n",
    "    'batch_size': batch_size,\n",
    "    'nr_epoch': nr_epoch,\n",
    "    'tree_truncate': tree_truncate,\n",
    "    'gru_encode': gru_encode\n",
    "}"
   ]
  },
  {
   "cell_type": "code",
   "execution_count": 3,
   "metadata": {
    "collapsed": false
   },
   "outputs": [],
   "source": [
    "train_loc = '/cinc/data/snli/train_1000/snli_1.0_train.jsonl'\n",
    "dev_loc   = '/cinc/data/snli/dev_1000/snli_1.0_dev.jsonl'\n",
    "\n",
    "path = '/cinc/data/quora-question-pairs/'\n",
    "save_path = '/cinc/data/snli/save_data/'"
   ]
  },
  {
   "cell_type": "markdown",
   "metadata": {},
   "source": [
    "# functions"
   ]
  },
  {
   "cell_type": "code",
   "execution_count": 4,
   "metadata": {
    "collapsed": true
   },
   "outputs": [],
   "source": [
    "LABELS = {'entailment': 0, 'contradiction': 1, 'neutral': 2}\n",
    "def read_snli(path):\n",
    "    texts1 = []\n",
    "    texts2 = []\n",
    "    labels = []\n",
    "    with open(path) as file_:\n",
    "        for line in file_:\n",
    "            eg = json.loads(line)\n",
    "            label = eg['gold_label']\n",
    "            if label == '-':\n",
    "                continue\n",
    "            texts1.append(eg['sentence1'])\n",
    "            texts2.append(eg['sentence2'])\n",
    "            labels.append(LABELS[label])\n",
    "    return texts1, texts2, to_categorical(numpy.asarray(labels, dtype='int32'))"
   ]
  },
  {
   "cell_type": "code",
   "execution_count": 5,
   "metadata": {
    "collapsed": true
   },
   "outputs": [],
   "source": [
    "nlp = spacy.load('en')"
   ]
  },
  {
   "cell_type": "code",
   "execution_count": 6,
   "metadata": {
    "collapsed": true
   },
   "outputs": [],
   "source": [
    "assert nlp.path is not None"
   ]
  },
  {
   "cell_type": "markdown",
   "metadata": {},
   "source": [
    "# load training data"
   ]
  },
  {
   "cell_type": "code",
   "execution_count": 11,
   "metadata": {
    "collapsed": true
   },
   "outputs": [],
   "source": [
    "train_data = pd.read_csv(path + 'train/train.csv', encoding='utf-8')"
   ]
  },
  {
   "cell_type": "code",
   "execution_count": 12,
   "metadata": {
    "collapsed": false
   },
   "outputs": [
    {
     "name": "stdout",
     "output_type": "stream",
     "text": [
      "(1000, 6)\n"
     ]
    }
   ],
   "source": [
    "train_data = train_data[0:1000]\n",
    "print (train_data.shape)"
   ]
  },
  {
   "cell_type": "code",
   "execution_count": 19,
   "metadata": {
    "collapsed": true
   },
   "outputs": [],
   "source": [
    "nb_samples = train_data.shape[0]"
   ]
  },
  {
   "cell_type": "code",
   "execution_count": 13,
   "metadata": {
    "collapsed": false
   },
   "outputs": [
    {
     "name": "stdout",
     "output_type": "stream",
     "text": [
      "What is the step by step guide to invest in share market in india?\n",
      "What is the step by step guide to invest in share market?\n"
     ]
    },
    {
     "data": {
      "text/plain": [
       "array([[ 143,   10,    4, 1130,   67, 1130, 4418,    5, 2570,   15,  998,\n",
       "         287,   15,   22,    1,    0,    0,    0,    0,    0,    0,    0,\n",
       "           0,    0,    0,    0,    0,    0,    0,    0,    0,    0,    0,\n",
       "           0,    0,    0,    0,    0,    0,    0,    0,    0,    0,    0,\n",
       "           0,    0,    0,    0,    0,    0,    0,    0,    0,    0,    0,\n",
       "           0,    0,    0,    0,    0,    0,    0,    0,    0,    0,    0,\n",
       "           0,    0,    0,    0,    0,    0,    0,    0,    0,    0,    0,\n",
       "           0,    0,    0,    0,    0,    0,    0,    0,    0,    0,    0,\n",
       "           0,    0,    0,    0,    0,    0,    0,    0,    0,    0,    0,\n",
       "           0],\n",
       "       [ 143,   10,    4, 1130,   67, 1130, 4418,    5, 2570,   15,  998,\n",
       "         287,    1,    0,    0,    0,    0,    0,    0,    0,    0,    0,\n",
       "           0,    0,    0,    0,    0,    0,    0,    0,    0,    0,    0,\n",
       "           0,    0,    0,    0,    0,    0,    0,    0,    0,    0,    0,\n",
       "           0,    0,    0,    0,    0,    0,    0,    0,    0,    0,    0,\n",
       "           0,    0,    0,    0,    0,    0,    0,    0,    0,    0,    0,\n",
       "           0,    0,    0,    0,    0,    0,    0,    0,    0,    0,    0,\n",
       "           0,    0,    0,    0,    0,    0,    0,    0,    0,    0,    0,\n",
       "           0,    0,    0,    0,    0,    0,    0,    0,    0,    0,    0,\n",
       "           0]], dtype=int32)"
      ]
     },
     "execution_count": 13,
     "metadata": {},
     "output_type": "execute_result"
    }
   ],
   "source": [
    "print (train_data['question1'][0])\n",
    "print (train_data['question2'][0])\n",
    "ids_0 = get_word_ids(list(nlp.pipe((unicode(train_data['question1'][0]), unicode(train_data['question2'][0])))),\n",
    "             max_length=shape[0],\n",
    "             rnn_encode=settings['gru_encode'],\n",
    "             tree_truncate=settings['tree_truncate'])\n",
    "ids_0"
   ]
  },
  {
   "cell_type": "code",
   "execution_count": 15,
   "metadata": {
    "collapsed": false
   },
   "outputs": [
    {
     "data": {
      "text/plain": [
       "(u'What is the step by step guide to invest in share market in india?',\n",
       " u'What is the step by step guide to invest in share market?')"
      ]
     },
     "execution_count": 15,
     "metadata": {},
     "output_type": "execute_result"
    }
   ],
   "source": [
    "all_texts1 = train_data['question1'].apply(lambda x: unicode(x))\n",
    "all_texts2 = train_data['question2'].apply(lambda x: unicode(x))\n",
    "all_texts1[0], all_texts2[0]"
   ]
  },
  {
   "cell_type": "code",
   "execution_count": 24,
   "metadata": {
    "collapsed": true
   },
   "outputs": [],
   "source": [
    "Xs_all = []\n",
    "for texts in (all_texts1, all_texts2):\n",
    "    #print (texts)\n",
    "    Xs_all.append(get_word_ids(list(nlp.pipe(texts, n_threads=20, batch_size=20000)),\n",
    "                     max_length=shape[0],\n",
    "                     rnn_encode=settings['gru_encode'],\n",
    "                     tree_truncate=settings['tree_truncate']))\n",
    "X1_all, X2_all = Xs_all"
   ]
  },
  {
   "cell_type": "code",
   "execution_count": 25,
   "metadata": {
    "collapsed": false
   },
   "outputs": [
    {
     "data": {
      "text/plain": [
       "((1000, 100), (1000, 100))"
      ]
     },
     "execution_count": 25,
     "metadata": {},
     "output_type": "execute_result"
    }
   ],
   "source": [
    "X1_all.shape, X2_all.shape"
   ]
  },
  {
   "cell_type": "code",
   "execution_count": 31,
   "metadata": {
    "collapsed": false
   },
   "outputs": [],
   "source": [
    "#X1_all[0], X2_all[0]"
   ]
  },
  {
   "cell_type": "code",
   "execution_count": 27,
   "metadata": {
    "collapsed": false
   },
   "outputs": [
    {
     "data": {
      "text/plain": [
       "(1000,)"
      ]
     },
     "execution_count": 27,
     "metadata": {},
     "output_type": "execute_result"
    }
   ],
   "source": [
    "y_all = train_data['is_duplicate']\n",
    "y_all.shape"
   ]
  },
  {
   "cell_type": "markdown",
   "metadata": {},
   "source": [
    "# random split"
   ]
  },
  {
   "cell_type": "code",
   "execution_count": 23,
   "metadata": {
    "collapsed": false
   },
   "outputs": [],
   "source": [
    "msk = np.random.rand(nb_samples) < 0.8\n",
    "#msk"
   ]
  },
  {
   "cell_type": "code",
   "execution_count": 28,
   "metadata": {
    "collapsed": false
   },
   "outputs": [
    {
     "data": {
      "text/plain": [
       "((814, 100), (814, 100), (814,), (186, 100), (186, 100), (186,))"
      ]
     },
     "execution_count": 28,
     "metadata": {},
     "output_type": "execute_result"
    }
   ],
   "source": [
    "X1_train = X1_all[msk]\n",
    "X1_valid = X1_all[~msk]\n",
    "\n",
    "X2_train = X2_all[msk]\n",
    "X2_valid = X2_all[~msk]\n",
    "\n",
    "y_train = y_all[msk]\n",
    "y_valid = y_all[~msk]\n",
    "\n",
    "(X1_train.shape, X2_train.shape, y_train.shape, X1_valid.shape, X2_valid.shape, y_valid.shape)"
   ]
  },
  {
   "cell_type": "markdown",
   "metadata": {},
   "source": [
    "# build model"
   ]
  },
  {
   "cell_type": "code",
   "execution_count": 29,
   "metadata": {
    "collapsed": true
   },
   "outputs": [],
   "source": [
    "model = build_model(get_embeddings(nlp.vocab), shape, settings)"
   ]
  },
  {
   "cell_type": "code",
   "execution_count": 32,
   "metadata": {
    "collapsed": true
   },
   "outputs": [],
   "source": [
    "callbacks = [\n",
    "    EarlyStopping(monitor='val_loss', patience=2, verbose=0),\n",
    "    #ModelCheckpoint(model_path + 'word2vec_dropout.h5', monitor='val_loss', save_best_only=True, verbose=0)\n",
    "]"
   ]
  },
  {
   "cell_type": "code",
   "execution_count": 34,
   "metadata": {
    "collapsed": false
   },
   "outputs": [
    {
     "name": "stdout",
     "output_type": "stream",
     "text": [
      "Train on 814 samples, validate on 186 samples\n",
      "Epoch 1/50\n",
      "7s - loss: 0.6603 - acc: 0.6167 - val_loss: 0.6756 - val_acc: 0.6344\n",
      "Epoch 2/50\n",
      "7s - loss: 0.6566 - acc: 0.6167 - val_loss: 0.6679 - val_acc: 0.6344\n",
      "Epoch 3/50\n",
      "7s - loss: 0.6363 - acc: 0.6167 - val_loss: 0.6648 - val_acc: 0.6344\n",
      "Epoch 4/50\n",
      "8s - loss: 0.6235 - acc: 0.6167 - val_loss: 0.6678 - val_acc: 0.6344\n",
      "Epoch 5/50\n",
      "7s - loss: 0.6010 - acc: 0.6143 - val_loss: 0.6582 - val_acc: 0.6344\n",
      "Epoch 6/50\n",
      "7s - loss: 0.5702 - acc: 0.6216 - val_loss: 0.6466 - val_acc: 0.6344\n",
      "Epoch 7/50\n",
      "7s - loss: 0.5186 - acc: 0.6536 - val_loss: 0.6401 - val_acc: 0.6344\n",
      "Epoch 8/50\n",
      "8s - loss: 0.4552 - acc: 0.7629 - val_loss: 0.6290 - val_acc: 0.6237\n",
      "Epoch 9/50\n",
      "7s - loss: 0.3861 - acc: 0.8366 - val_loss: 0.6181 - val_acc: 0.6398\n",
      "Epoch 10/50\n",
      "7s - loss: 0.3067 - acc: 0.8747 - val_loss: 0.6198 - val_acc: 0.6237\n",
      "Epoch 11/50\n",
      "8s - loss: 0.2690 - acc: 0.8894 - val_loss: 0.6550 - val_acc: 0.6398\n",
      "Epoch 12/50\n",
      "7s - loss: 0.2310 - acc: 0.9017 - val_loss: 0.6707 - val_acc: 0.6452\n"
     ]
    },
    {
     "data": {
      "text/plain": [
       "<keras.callbacks.History at 0x7fd51ba4e890>"
      ]
     },
     "execution_count": 34,
     "metadata": {},
     "output_type": "execute_result"
    }
   ],
   "source": [
    "model.fit(\n",
    "    [X1_train, X2_train],\n",
    "    y_train,\n",
    "    validation_data=([X1_valid, X2_valid], y_valid),\n",
    "    nb_epoch=settings['nr_epoch']*10,\n",
    "    batch_size=settings['batch_size'],\n",
    "    callbacks=callbacks,\n",
    "    verbose=2\n",
    ")"
   ]
  },
  {
   "cell_type": "code",
   "execution_count": 19,
   "metadata": {
    "collapsed": true
   },
   "outputs": [],
   "source": [
    "#model.save_weights(save_path + 'model/spacy_attention.h5')"
   ]
  },
  {
   "cell_type": "code",
   "execution_count": null,
   "metadata": {
    "collapsed": true
   },
   "outputs": [],
   "source": [
    "#model.load_weights(save_path + 'model/spacy_attention.h5', by_name=True)"
   ]
  },
  {
   "cell_type": "code",
   "execution_count": 38,
   "metadata": {
    "collapsed": false
   },
   "outputs": [],
   "source": [
    "all_pred = model.predict([X1_all, X2_all])"
   ]
  },
  {
   "cell_type": "code",
   "execution_count": 39,
   "metadata": {
    "collapsed": false
   },
   "outputs": [
    {
     "data": {
      "text/plain": [
       "(1000, 1)"
      ]
     },
     "execution_count": 39,
     "metadata": {},
     "output_type": "execute_result"
    }
   ],
   "source": [
    "all_pred.shape"
   ]
  },
  {
   "cell_type": "code",
   "execution_count": 42,
   "metadata": {
    "collapsed": false
   },
   "outputs": [
    {
     "data": {
      "text/plain": [
       "(0    What is the step by step guide to invest in sh...\n",
       " 1    What is the story of Kohinoor (Koh-i-Noor) Dia...\n",
       " 2    How can I increase the speed of my internet co...\n",
       " Name: question1, dtype: object,\n",
       " 0    What is the step by step guide to invest in sh...\n",
       " 1    What would happen if the Indian government sto...\n",
       " 2    How can Internet speed be increased by hacking...\n",
       " Name: question2, dtype: object,\n",
       " array([[ 0.23589465],\n",
       "        [ 0.082427  ],\n",
       "        [ 0.04486652]], dtype=float32))"
      ]
     },
     "execution_count": 42,
     "metadata": {},
     "output_type": "execute_result"
    }
   ],
   "source": [
    "all_texts1[0:3], all_texts2[0:3], all_pred[0:3]"
   ]
  },
  {
   "cell_type": "code",
   "execution_count": 26,
   "metadata": {
    "collapsed": false
   },
   "outputs": [],
   "source": [
    "#valid_pred[:,0]"
   ]
  },
  {
   "cell_type": "markdown",
   "metadata": {},
   "source": [
    "# predict test"
   ]
  },
  {
   "cell_type": "code",
   "execution_count": 44,
   "metadata": {
    "collapsed": false
   },
   "outputs": [
    {
     "data": {
      "text/plain": [
       "(2, 100)"
      ]
     },
     "execution_count": 44,
     "metadata": {},
     "output_type": "execute_result"
    }
   ],
   "source": [
    "get_word_ids(list(nlp.pipe(('I am ok.', 'I am good'))),\n",
    "             max_length=shape[0],\n",
    "             rnn_encode=settings['gru_encode'],\n",
    "             tree_truncate=settings['tree_truncate']).shape"
   ]
  },
  {
   "cell_type": "code",
   "execution_count": 48,
   "metadata": {
    "collapsed": false
   },
   "outputs": [],
   "source": [
    "test_data = pd.read_csv(path + 'test/test.csv', encoding='utf-8')"
   ]
  },
  {
   "cell_type": "code",
   "execution_count": 49,
   "metadata": {
    "collapsed": false
   },
   "outputs": [
    {
     "data": {
      "text/plain": [
       "(82, 3)"
      ]
     },
     "execution_count": 49,
     "metadata": {},
     "output_type": "execute_result"
    }
   ],
   "source": [
    "test_data = test_data[0:82]\n",
    "test_data.shape"
   ]
  },
  {
   "cell_type": "markdown",
   "metadata": {},
   "source": [
    "# predict in batches"
   ]
  },
  {
   "cell_type": "code",
   "execution_count": 50,
   "metadata": {
    "collapsed": false
   },
   "outputs": [],
   "source": [
    "def predict_batch(df_data, start, end):\n",
    "    test_texts1 = test_data['question1'][start:end].apply(lambda x: unicode(x))\n",
    "    test_texts2 = test_data['question2'][start:end].apply(lambda x: unicode(x))\n",
    "\n",
    "    Xs_test = []\n",
    "    for texts in (test_texts1, test_texts2):\n",
    "        #print (texts)\n",
    "        Xs_test.append(get_word_ids(list(nlp.pipe(texts, n_threads=20, batch_size=20000)),\n",
    "                         max_length=shape[0],\n",
    "                         rnn_encode=settings['gru_encode'],\n",
    "                         tree_truncate=settings['tree_truncate']))\n",
    "    test_X1, test_X2 = Xs_test\n",
    "\n",
    "    return model.predict([test_X1, test_X2])\n",
    "\n",
    "a = predict_batch(test_data, 10, 12)"
   ]
  },
  {
   "cell_type": "code",
   "execution_count": 58,
   "metadata": {
    "collapsed": false
   },
   "outputs": [
    {
     "name": "stderr",
     "output_type": "stream",
     "text": [
      "100%|██████████| 9/9 [00:02<00:00,  3.57it/s]\n"
     ]
    }
   ],
   "source": [
    "#test_pred = []\n",
    "batch_size = 10\n",
    "for i in tqdm(range(int(test_data.shape[0] / batch_size)+1)):\n",
    "    start = i*batch_size\n",
    "    end   = min((i+1)*batch_size, test_data.shape[0])\n",
    "    #print ('proceccinng: ', i, start, end)\n",
    "    batch_pred = predict_batch(test_data, start, end)\n",
    "    if (i == 0):\n",
    "        test_pred = batch_pred\n",
    "    else:\n",
    "        test_pred = np.vstack( (test_pred, batch_pred) )\n"
   ]
  },
  {
   "cell_type": "code",
   "execution_count": 59,
   "metadata": {
    "collapsed": false
   },
   "outputs": [
    {
     "data": {
      "text/plain": [
       "(82, 82)"
      ]
     },
     "execution_count": 59,
     "metadata": {},
     "output_type": "execute_result"
    }
   ],
   "source": [
    "test_data.shape[0], len(test_pred)"
   ]
  },
  {
   "cell_type": "code",
   "execution_count": 60,
   "metadata": {
    "collapsed": false
   },
   "outputs": [
    {
     "data": {
      "text/plain": [
       "array([ 0.24061327], dtype=float32)"
      ]
     },
     "execution_count": 60,
     "metadata": {},
     "output_type": "execute_result"
    }
   ],
   "source": [
    "test_pred[0]"
   ]
  },
  {
   "cell_type": "code",
   "execution_count": null,
   "metadata": {
    "collapsed": true
   },
   "outputs": [],
   "source": []
  }
 ],
 "metadata": {
  "anaconda-cloud": {},
  "kernelspec": {
   "display_name": "Python 2",
   "language": "python",
   "name": "python2"
  },
  "language_info": {
   "codemirror_mode": {
    "name": "ipython",
    "version": 2
   },
   "file_extension": ".py",
   "mimetype": "text/x-python",
   "name": "python",
   "nbconvert_exporter": "python",
   "pygments_lexer": "ipython2",
   "version": "2.7.13"
  }
 },
 "nbformat": 4,
 "nbformat_minor": 1
}
