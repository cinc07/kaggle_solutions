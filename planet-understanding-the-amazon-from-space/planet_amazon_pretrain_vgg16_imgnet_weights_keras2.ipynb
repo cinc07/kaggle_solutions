{
 "cells": [
  {
   "cell_type": "code",
   "execution_count": 1,
   "metadata": {},
   "outputs": [
    {
     "name": "stderr",
     "output_type": "stream",
     "text": [
      "Using Theano backend.\n",
      "WARNING (theano.sandbox.cuda): The cuda backend is deprecated and will be removed in the next release (v0.10).  Please switch to the gpuarray backend. You can get more information about how to switch at this URL:\n",
      " https://github.com/Theano/Theano/wiki/Converting-to-the-new-gpu-back-end%28gpuarray%29\n",
      "\n",
      "Using gpu device 0: GeForce GTX 1060 6GB (CNMeM is enabled with initial size: 75.0% of memory, cuDNN not available)\n"
     ]
    }
   ],
   "source": [
    "from keras.preprocessing import image\n",
    "from keras.preprocessing.image import load_img, img_to_array\n",
    "\n",
    "from keras.models import Sequential, Model\n",
    "from keras.layers import Dense, Dropout, Lambda, Flatten, Convolution2D, MaxPooling2D, ZeroPadding2D\n",
    "from keras.layers.normalization import BatchNormalization\n",
    "from keras.optimizers import Adam, RMSprop\n",
    "from keras import regularizers\n",
    "from keras import applications\n",
    "from keras.callbacks import EarlyStopping, ModelCheckpoint\n",
    "\n",
    "import numpy as np\n",
    "import pandas as pd\n",
    "import glob\n",
    "import skimage.io as io\n",
    "from matplotlib import pyplot as plt\n",
    "from sklearn.metrics import fbeta_score\n",
    "from tqdm import tqdm\n",
    "\n",
    "#import utils; reload(utils)\n",
    "#from utils import plots"
   ]
  },
  {
   "cell_type": "code",
   "execution_count": 2,
   "metadata": {
    "collapsed": true
   },
   "outputs": [],
   "source": [
    "import bcolz\n",
    "def save_array(fname, arr): c=bcolz.carray(arr, rootdir=fname, mode='w'); c.flush()\n",
    "def load_array(fname): return bcolz.open(fname)[:]"
   ]
  },
  {
   "cell_type": "code",
   "execution_count": 3,
   "metadata": {
    "collapsed": true
   },
   "outputs": [],
   "source": [
    "data_path = '/cinc/data/planet_amazon/train-jpg/'\n",
    "save_path = '/cinc/data/planet_amazon/save_data/train-jpg/'"
   ]
  },
  {
   "cell_type": "markdown",
   "metadata": {},
   "source": [
    "# labels"
   ]
  },
  {
   "cell_type": "code",
   "execution_count": 10,
   "metadata": {},
   "outputs": [
    {
     "name": "stdout",
     "output_type": "stream",
     "text": [
      "(10000, 2)\n"
     ]
    },
    {
     "data": {
      "text/html": [
       "<div>\n",
       "<style>\n",
       "    .dataframe thead tr:only-child th {\n",
       "        text-align: right;\n",
       "    }\n",
       "\n",
       "    .dataframe thead th {\n",
       "        text-align: left;\n",
       "    }\n",
       "\n",
       "    .dataframe tbody tr th {\n",
       "        vertical-align: top;\n",
       "    }\n",
       "</style>\n",
       "<table border=\"1\" class=\"dataframe\">\n",
       "  <thead>\n",
       "    <tr style=\"text-align: right;\">\n",
       "      <th></th>\n",
       "      <th>image_name</th>\n",
       "      <th>tags</th>\n",
       "    </tr>\n",
       "  </thead>\n",
       "  <tbody>\n",
       "    <tr>\n",
       "      <th>0</th>\n",
       "      <td>train_0</td>\n",
       "      <td>haze primary</td>\n",
       "    </tr>\n",
       "    <tr>\n",
       "      <th>1</th>\n",
       "      <td>train_1</td>\n",
       "      <td>agriculture clear primary water</td>\n",
       "    </tr>\n",
       "    <tr>\n",
       "      <th>2</th>\n",
       "      <td>train_2</td>\n",
       "      <td>clear primary</td>\n",
       "    </tr>\n",
       "    <tr>\n",
       "      <th>3</th>\n",
       "      <td>train_3</td>\n",
       "      <td>clear primary</td>\n",
       "    </tr>\n",
       "    <tr>\n",
       "      <th>4</th>\n",
       "      <td>train_4</td>\n",
       "      <td>agriculture clear habitation primary road</td>\n",
       "    </tr>\n",
       "  </tbody>\n",
       "</table>\n",
       "</div>"
      ],
      "text/plain": [
       "  image_name                                       tags\n",
       "0    train_0                               haze primary\n",
       "1    train_1            agriculture clear primary water\n",
       "2    train_2                              clear primary\n",
       "3    train_3                              clear primary\n",
       "4    train_4  agriculture clear habitation primary road"
      ]
     },
     "execution_count": 10,
     "metadata": {},
     "output_type": "execute_result"
    }
   ],
   "source": [
    "labels_train = pd.read_csv(data_path + '../labels/train_v2_10000.csv')\n",
    "print labels_train.shape\n",
    "labels_train.head()"
   ]
  },
  {
   "cell_type": "code",
   "execution_count": 11,
   "metadata": {},
   "outputs": [
    {
     "data": {
      "text/plain": [
       "0                                    [haze, primary]\n",
       "1               [agriculture, clear, primary, water]\n",
       "2                                   [clear, primary]\n",
       "3                                   [clear, primary]\n",
       "4    [agriculture, clear, habitation, primary, road]\n",
       "Name: tags, dtype: object"
      ]
     },
     "execution_count": 11,
     "metadata": {},
     "output_type": "execute_result"
    }
   ],
   "source": [
    "labels_1 = labels_train['tags'].apply(lambda x: x.split(' '))\n",
    "labels_1.head()"
   ]
  },
  {
   "cell_type": "code",
   "execution_count": 12,
   "metadata": {},
   "outputs": [
    {
     "data": {
      "text/plain": [
       "['slash_burn',\n",
       " 'clear',\n",
       " 'blooming',\n",
       " 'primary',\n",
       " 'cloudy',\n",
       " 'conventional_mine',\n",
       " 'water',\n",
       " 'haze',\n",
       " 'cultivation',\n",
       " 'partly_cloudy',\n",
       " 'artisinal_mine',\n",
       " 'habitation',\n",
       " 'bare_ground',\n",
       " 'blow_down',\n",
       " 'agriculture',\n",
       " 'road',\n",
       " 'selective_logging']"
      ]
     },
     "execution_count": 12,
     "metadata": {},
     "output_type": "execute_result"
    }
   ],
   "source": [
    "tag_count = {}\n",
    "for line in labels_1:\n",
    "    for l in line:\n",
    "        if (tag_count.has_key(l)):\n",
    "            tag_count[l] = tag_count[l] + 1\n",
    "        else:\n",
    "            tag_count[l]= 1\n",
    "        \n",
    "tags = tag_count.keys()\n",
    "n_tags = len(tags)\n",
    "tags"
   ]
  },
  {
   "cell_type": "code",
   "execution_count": 13,
   "metadata": {},
   "outputs": [
    {
     "data": {
      "text/plain": [
       "{'agriculture': 14,\n",
       " 'artisinal_mine': 10,\n",
       " 'bare_ground': 12,\n",
       " 'blooming': 2,\n",
       " 'blow_down': 13,\n",
       " 'clear': 1,\n",
       " 'cloudy': 4,\n",
       " 'conventional_mine': 5,\n",
       " 'cultivation': 8,\n",
       " 'habitation': 11,\n",
       " 'haze': 7,\n",
       " 'partly_cloudy': 9,\n",
       " 'primary': 3,\n",
       " 'road': 15,\n",
       " 'selective_logging': 16,\n",
       " 'slash_burn': 0,\n",
       " 'water': 6}"
      ]
     },
     "execution_count": 13,
     "metadata": {},
     "output_type": "execute_result"
    }
   ],
   "source": [
    "tag_id = dict([(v, i) for i, v in enumerate(tags)])\n",
    "id_tag = dict([(i, v) for i, v in enumerate(tags)])\n",
    "tag_id\n",
    "#tag_id['primary'], tag_id['clear'], id_tag[4], id_tag[2]"
   ]
  },
  {
   "cell_type": "code",
   "execution_count": 14,
   "metadata": {
    "collapsed": true
   },
   "outputs": [],
   "source": [
    "save_array(save_path + 'id_tag', id_tag)\n",
    "save_array(save_path + 'tag_id', tag_id)"
   ]
  },
  {
   "cell_type": "code",
   "execution_count": 15,
   "metadata": {},
   "outputs": [
    {
     "data": {
      "text/plain": [
       "{'agriculture': 14,\n",
       " 'artisinal_mine': 10,\n",
       " 'bare_ground': 12,\n",
       " 'blooming': 2,\n",
       " 'blow_down': 13,\n",
       " 'clear': 1,\n",
       " 'cloudy': 4,\n",
       " 'conventional_mine': 5,\n",
       " 'cultivation': 8,\n",
       " 'habitation': 11,\n",
       " 'haze': 7,\n",
       " 'partly_cloudy': 9,\n",
       " 'primary': 3,\n",
       " 'road': 15,\n",
       " 'selective_logging': 16,\n",
       " 'slash_burn': 0,\n",
       " 'water': 6}"
      ]
     },
     "execution_count": 15,
     "metadata": {},
     "output_type": "execute_result"
    }
   ],
   "source": [
    "id_tag = load_array(save_path + 'id_tag')[0]\n",
    "tag_id = load_array(save_path + 'tag_id')[0]\n",
    "type(id_tag), type(tag_id)\n",
    "tag_id"
   ]
  },
  {
   "cell_type": "code",
   "execution_count": 16,
   "metadata": {},
   "outputs": [
    {
     "data": {
      "text/plain": [
       "[3, 1]"
      ]
     },
     "execution_count": 16,
     "metadata": {},
     "output_type": "execute_result"
    }
   ],
   "source": [
    "def tagsToIds(tags):\n",
    "    ids = []\n",
    "    for tag in tags.split(' '):\n",
    "        ids.append(tag_id[tag])\n",
    "    return ids\n",
    "tagsToIds('primary clear')"
   ]
  },
  {
   "cell_type": "code",
   "execution_count": 9,
   "metadata": {},
   "outputs": [
    {
     "data": {
      "text/html": [
       "<div>\n",
       "<style>\n",
       "    .dataframe thead tr:only-child th {\n",
       "        text-align: right;\n",
       "    }\n",
       "\n",
       "    .dataframe thead th {\n",
       "        text-align: left;\n",
       "    }\n",
       "\n",
       "    .dataframe tbody tr th {\n",
       "        vertical-align: top;\n",
       "    }\n",
       "</style>\n",
       "<table border=\"1\" class=\"dataframe\">\n",
       "  <thead>\n",
       "    <tr style=\"text-align: right;\">\n",
       "      <th></th>\n",
       "      <th>image_name</th>\n",
       "      <th>tags</th>\n",
       "      <th>tagIds</th>\n",
       "    </tr>\n",
       "  </thead>\n",
       "  <tbody>\n",
       "    <tr>\n",
       "      <th>0</th>\n",
       "      <td>train_0</td>\n",
       "      <td>haze primary</td>\n",
       "      <td>[7, 3]</td>\n",
       "    </tr>\n",
       "    <tr>\n",
       "      <th>1</th>\n",
       "      <td>train_1</td>\n",
       "      <td>agriculture clear primary water</td>\n",
       "      <td>[14, 1, 3, 6]</td>\n",
       "    </tr>\n",
       "    <tr>\n",
       "      <th>2</th>\n",
       "      <td>train_2</td>\n",
       "      <td>clear primary</td>\n",
       "      <td>[1, 3]</td>\n",
       "    </tr>\n",
       "    <tr>\n",
       "      <th>3</th>\n",
       "      <td>train_3</td>\n",
       "      <td>clear primary</td>\n",
       "      <td>[1, 3]</td>\n",
       "    </tr>\n",
       "    <tr>\n",
       "      <th>4</th>\n",
       "      <td>train_4</td>\n",
       "      <td>agriculture clear habitation primary road</td>\n",
       "      <td>[14, 1, 11, 3, 15]</td>\n",
       "    </tr>\n",
       "  </tbody>\n",
       "</table>\n",
       "</div>"
      ],
      "text/plain": [
       "  image_name                                       tags              tagIds\n",
       "0    train_0                               haze primary              [7, 3]\n",
       "1    train_1            agriculture clear primary water       [14, 1, 3, 6]\n",
       "2    train_2                              clear primary              [1, 3]\n",
       "3    train_3                              clear primary              [1, 3]\n",
       "4    train_4  agriculture clear habitation primary road  [14, 1, 11, 3, 15]"
      ]
     },
     "execution_count": 9,
     "metadata": {},
     "output_type": "execute_result"
    }
   ],
   "source": [
    "labels_train['tagIds'] = labels_train['tags'].apply(tagsToIds)\n",
    "labels_train.head()"
   ]
  },
  {
   "cell_type": "code",
   "execution_count": 10,
   "metadata": {},
   "outputs": [
    {
     "name": "stdout",
     "output_type": "stream",
     "text": [
      "[1, 3]\n",
      "[ 0.  1.  0.  1.  0.]\n",
      "[1, 3]\n"
     ]
    }
   ],
   "source": [
    "# [1,3] => [0,1,0,1,0]\n",
    "def n_hot(labels, size):\n",
    "    y = np.zeros(size)\n",
    "    for i in range(len(labels)):\n",
    "        y[labels[i]] = 1\n",
    "    return y\n",
    "\n",
    "# [0, 1, 0, 1, 0] => [1,3]\n",
    "def reverse_n_hot(n_hot_array):\n",
    "    indexes = []\n",
    "    for i in range(len(n_hot_array)):\n",
    "        if (n_hot_array[i] == 1):\n",
    "            indexes.append(i)\n",
    "    return indexes\n",
    "\n",
    "labels = [1,3]\n",
    "n_hot_result = n_hot(labels, 5)\n",
    "\n",
    "print (labels)\n",
    "print (n_hot_result)\n",
    "print (reverse_n_hot(n_hot_result))"
   ]
  },
  {
   "cell_type": "code",
   "execution_count": 11,
   "metadata": {},
   "outputs": [
    {
     "data": {
      "text/html": [
       "<div>\n",
       "<style>\n",
       "    .dataframe thead tr:only-child th {\n",
       "        text-align: right;\n",
       "    }\n",
       "\n",
       "    .dataframe thead th {\n",
       "        text-align: left;\n",
       "    }\n",
       "\n",
       "    .dataframe tbody tr th {\n",
       "        vertical-align: top;\n",
       "    }\n",
       "</style>\n",
       "<table border=\"1\" class=\"dataframe\">\n",
       "  <thead>\n",
       "    <tr style=\"text-align: right;\">\n",
       "      <th></th>\n",
       "      <th>image_name</th>\n",
       "      <th>tags</th>\n",
       "      <th>tagIds</th>\n",
       "      <th>nhot</th>\n",
       "    </tr>\n",
       "  </thead>\n",
       "  <tbody>\n",
       "    <tr>\n",
       "      <th>0</th>\n",
       "      <td>train_0</td>\n",
       "      <td>haze primary</td>\n",
       "      <td>[7, 3]</td>\n",
       "      <td>[0.0, 0.0, 0.0, 1.0, 0.0, 0.0, 0.0, 1.0, 0.0, ...</td>\n",
       "    </tr>\n",
       "    <tr>\n",
       "      <th>1</th>\n",
       "      <td>train_1</td>\n",
       "      <td>agriculture clear primary water</td>\n",
       "      <td>[14, 1, 3, 6]</td>\n",
       "      <td>[0.0, 1.0, 0.0, 1.0, 0.0, 0.0, 1.0, 0.0, 0.0, ...</td>\n",
       "    </tr>\n",
       "    <tr>\n",
       "      <th>2</th>\n",
       "      <td>train_2</td>\n",
       "      <td>clear primary</td>\n",
       "      <td>[1, 3]</td>\n",
       "      <td>[0.0, 1.0, 0.0, 1.0, 0.0, 0.0, 0.0, 0.0, 0.0, ...</td>\n",
       "    </tr>\n",
       "    <tr>\n",
       "      <th>3</th>\n",
       "      <td>train_3</td>\n",
       "      <td>clear primary</td>\n",
       "      <td>[1, 3]</td>\n",
       "      <td>[0.0, 1.0, 0.0, 1.0, 0.0, 0.0, 0.0, 0.0, 0.0, ...</td>\n",
       "    </tr>\n",
       "    <tr>\n",
       "      <th>4</th>\n",
       "      <td>train_4</td>\n",
       "      <td>agriculture clear habitation primary road</td>\n",
       "      <td>[14, 1, 11, 3, 15]</td>\n",
       "      <td>[0.0, 1.0, 0.0, 1.0, 0.0, 0.0, 0.0, 0.0, 0.0, ...</td>\n",
       "    </tr>\n",
       "  </tbody>\n",
       "</table>\n",
       "</div>"
      ],
      "text/plain": [
       "  image_name                                       tags              tagIds  \\\n",
       "0    train_0                               haze primary              [7, 3]   \n",
       "1    train_1            agriculture clear primary water       [14, 1, 3, 6]   \n",
       "2    train_2                              clear primary              [1, 3]   \n",
       "3    train_3                              clear primary              [1, 3]   \n",
       "4    train_4  agriculture clear habitation primary road  [14, 1, 11, 3, 15]   \n",
       "\n",
       "                                                nhot  \n",
       "0  [0.0, 0.0, 0.0, 1.0, 0.0, 0.0, 0.0, 1.0, 0.0, ...  \n",
       "1  [0.0, 1.0, 0.0, 1.0, 0.0, 0.0, 1.0, 0.0, 0.0, ...  \n",
       "2  [0.0, 1.0, 0.0, 1.0, 0.0, 0.0, 0.0, 0.0, 0.0, ...  \n",
       "3  [0.0, 1.0, 0.0, 1.0, 0.0, 0.0, 0.0, 0.0, 0.0, ...  \n",
       "4  [0.0, 1.0, 0.0, 1.0, 0.0, 0.0, 0.0, 0.0, 0.0, ...  "
      ]
     },
     "execution_count": 11,
     "metadata": {},
     "output_type": "execute_result"
    }
   ],
   "source": [
    "labels_train['nhot'] = labels_train['tagIds'].apply(lambda x: n_hot(x, len(tag_id)))\n",
    "labels_train.head()"
   ]
  },
  {
   "cell_type": "code",
   "execution_count": 12,
   "metadata": {},
   "outputs": [
    {
     "data": {
      "text/plain": [
       "array([ 0.,  1.,  0.,  1.,  0.,  0.,  1.,  0.,  0.,  0.,  0.,  0.,  0.,\n",
       "        0.,  1.,  0.,  0.])"
      ]
     },
     "execution_count": 12,
     "metadata": {},
     "output_type": "execute_result"
    }
   ],
   "source": [
    "labels_train['nhot'][1]"
   ]
  },
  {
   "cell_type": "code",
   "execution_count": 13,
   "metadata": {},
   "outputs": [
    {
     "data": {
      "text/html": [
       "<div>\n",
       "<style>\n",
       "    .dataframe thead tr:only-child th {\n",
       "        text-align: right;\n",
       "    }\n",
       "\n",
       "    .dataframe thead th {\n",
       "        text-align: left;\n",
       "    }\n",
       "\n",
       "    .dataframe tbody tr th {\n",
       "        vertical-align: top;\n",
       "    }\n",
       "</style>\n",
       "<table border=\"1\" class=\"dataframe\">\n",
       "  <thead>\n",
       "    <tr style=\"text-align: right;\">\n",
       "      <th></th>\n",
       "      <th>image_name</th>\n",
       "      <th>tags</th>\n",
       "      <th>tagIds</th>\n",
       "      <th>nhot</th>\n",
       "    </tr>\n",
       "  </thead>\n",
       "  <tbody>\n",
       "    <tr>\n",
       "      <th>26</th>\n",
       "      <td>train_26</td>\n",
       "      <td>cloudy</td>\n",
       "      <td>[4]</td>\n",
       "      <td>[0.0, 0.0, 0.0, 0.0, 1.0, 0.0, 0.0, 0.0, 0.0, ...</td>\n",
       "    </tr>\n",
       "  </tbody>\n",
       "</table>\n",
       "</div>"
      ],
      "text/plain": [
       "   image_name    tags tagIds  \\\n",
       "26   train_26  cloudy    [4]   \n",
       "\n",
       "                                                 nhot  \n",
       "26  [0.0, 0.0, 0.0, 0.0, 1.0, 0.0, 0.0, 0.0, 0.0, ...  "
      ]
     },
     "execution_count": 13,
     "metadata": {},
     "output_type": "execute_result"
    }
   ],
   "source": [
    "# verify new label, train_26 should be cloudy only\n",
    "labels_train[labels_train['image_name'] == 'train_26']"
   ]
  },
  {
   "cell_type": "markdown",
   "metadata": {},
   "source": [
    "# read image"
   ]
  },
  {
   "cell_type": "code",
   "execution_count": 14,
   "metadata": {},
   "outputs": [
    {
     "data": {
      "text/plain": [
       "10000"
      ]
     },
     "execution_count": 14,
     "metadata": {},
     "output_type": "execute_result"
    }
   ],
   "source": [
    "n_samples = labels_train.shape[0]\n",
    "#n_samples = 100\n",
    "n_samples"
   ]
  },
  {
   "cell_type": "code",
   "execution_count": 15,
   "metadata": {
    "collapsed": true
   },
   "outputs": [],
   "source": [
    "x_all = np.empty([n_samples, 224, 224, 3])\n",
    "y_all = np.empty([n_samples, n_tags])\n",
    "\n",
    "for i in range(n_samples):\n",
    "    #print i, labels_train['image_name'][i]\n",
    "    img = load_img(data_path + labels_train['image_name'][i] + '.jpg')\n",
    "    #img = img.resize((224, 224))\n",
    "    x = img_to_array(img.resize((224, 224)))\n",
    "    x_all[i] = x\n",
    "    y_all[i] = labels_train['nhot'][i]"
   ]
  },
  {
   "cell_type": "code",
   "execution_count": 16,
   "metadata": {},
   "outputs": [
    {
     "data": {
      "text/plain": [
       "((224, 224, 3), (17,))"
      ]
     },
     "execution_count": 16,
     "metadata": {},
     "output_type": "execute_result"
    }
   ],
   "source": [
    "x_all[0].shape, y_all[0].shape"
   ]
  },
  {
   "cell_type": "code",
   "execution_count": 17,
   "metadata": {
    "collapsed": true
   },
   "outputs": [],
   "source": [
    "# save for later\n",
    "save_array(save_path + 'x_all', x_all)\n",
    "save_array(save_path + 'y_all', y_all)"
   ]
  },
  {
   "cell_type": "code",
   "execution_count": 18,
   "metadata": {
    "collapsed": true
   },
   "outputs": [],
   "source": [
    "x_all = load_array(save_path + 'x_all')\n",
    "y_all = load_array(save_path + 'y_all')"
   ]
  },
  {
   "cell_type": "code",
   "execution_count": 19,
   "metadata": {},
   "outputs": [
    {
     "data": {
      "text/plain": [
       "((100, 224, 224, 3), (100, 17))"
      ]
     },
     "execution_count": 19,
     "metadata": {},
     "output_type": "execute_result"
    }
   ],
   "source": [
    "x_all.shape, y_all.shape"
   ]
  },
  {
   "cell_type": "markdown",
   "metadata": {},
   "source": [
    "# random split"
   ]
  },
  {
   "cell_type": "code",
   "execution_count": 20,
   "metadata": {},
   "outputs": [
    {
     "data": {
      "text/plain": [
       "array([ True,  True,  True,  True,  True,  True,  True,  True, False,  True], dtype=bool)"
      ]
     },
     "execution_count": 20,
     "metadata": {},
     "output_type": "execute_result"
    }
   ],
   "source": [
    "msk = np.random.rand(n_samples) < 0.8\n",
    "msk[:10]"
   ]
  },
  {
   "cell_type": "code",
   "execution_count": 21,
   "metadata": {},
   "outputs": [
    {
     "data": {
      "text/plain": [
       "((82, 224, 224, 3), (82, 17), (18, 224, 224, 3), (18, 17))"
      ]
     },
     "execution_count": 21,
     "metadata": {},
     "output_type": "execute_result"
    }
   ],
   "source": [
    "x_train = x_all[msk]\n",
    "x_valid = x_all[~msk]\n",
    "y_train = y_all[msk]\n",
    "y_valid = y_all[~msk]\n",
    "(x_train.shape, y_train.shape, x_valid.shape, y_valid.shape)"
   ]
  },
  {
   "cell_type": "code",
   "execution_count": 22,
   "metadata": {
    "collapsed": true
   },
   "outputs": [],
   "source": [
    "# save for later\n",
    "save_array(save_path + 'x_train', x_train)\n",
    "save_array(save_path + 'x_valid', x_valid)\n",
    "save_array(save_path + 'y_train', y_train)\n",
    "save_array(save_path + 'y_valid', y_valid)"
   ]
  },
  {
   "cell_type": "code",
   "execution_count": 15,
   "metadata": {
    "collapsed": true
   },
   "outputs": [],
   "source": [
    "# load back\n",
    "x_train = load_array(save_path + 'x_train')\n",
    "x_valid = load_array(save_path + 'x_valid')\n",
    "y_train = load_array(save_path + 'y_train')\n",
    "y_valid = load_array(save_path + 'y_valid')\n",
    "(x_train.shape, y_train.shape, x_valid.shape, y_valid.shape)"
   ]
  },
  {
   "cell_type": "markdown",
   "metadata": {},
   "source": [
    "# reuse vgg16 model"
   ]
  },
  {
   "cell_type": "code",
   "execution_count": 16,
   "metadata": {},
   "outputs": [
    {
     "name": "stdout",
     "output_type": "stream",
     "text": [
      "Model loaded.\n"
     ]
    }
   ],
   "source": [
    "# build the VGG16 network\n",
    "base_model = applications.VGG16(weights='imagenet', include_top=False, input_shape=(224, 224, 3))\n",
    "print('Model loaded.')\n",
    "\n",
    "for layer in base_model.layers:\n",
    "    layer.trainable = False"
   ]
  },
  {
   "cell_type": "code",
   "execution_count": 17,
   "metadata": {
    "collapsed": true
   },
   "outputs": [],
   "source": [
    "x = base_model.output\n",
    "x = Flatten(input_shape=(512, 8, 8))(x)\n",
    "x = Dense(256, activation='relu')(x)\n",
    "x = Dropout(0.5)(x)\n",
    "pred_layer = Dense(17, activation='sigmoid')(x)"
   ]
  },
  {
   "cell_type": "code",
   "execution_count": 18,
   "metadata": {
    "collapsed": true
   },
   "outputs": [],
   "source": [
    "model = Model(inputs=base_model.input, outputs=pred_layer)"
   ]
  },
  {
   "cell_type": "code",
   "execution_count": 19,
   "metadata": {
    "collapsed": true
   },
   "outputs": [],
   "source": [
    "model.compile(Adam(), loss='binary_crossentropy', metrics=['accuracy'])"
   ]
  },
  {
   "cell_type": "code",
   "execution_count": 23,
   "metadata": {
    "collapsed": true
   },
   "outputs": [],
   "source": [
    "batch_size=128\n",
    "gen = image.ImageDataGenerator()\n",
    "train_batches = gen.flow(x_train, y_train, batch_size=batch_size)\n",
    "valid_batches = gen.flow(x_valid, y_valid, batch_size=batch_size)"
   ]
  },
  {
   "cell_type": "code",
   "execution_count": null,
   "metadata": {
    "collapsed": true
   },
   "outputs": [],
   "source": []
  },
  {
   "cell_type": "code",
   "execution_count": 22,
   "metadata": {
    "collapsed": true
   },
   "outputs": [],
   "source": [
    "callbacks = [\n",
    "    EarlyStopping(monitor='val_loss', patience=5, verbose=0),\n",
    "    ModelCheckpoint(save_path + 'model/vgg16_pretrained_keras2.h5', monitor='val_loss', save_best_only=True, verbose=0)\n",
    "]"
   ]
  },
  {
   "cell_type": "code",
   "execution_count": null,
   "metadata": {
    "collapsed": true
   },
   "outputs": [],
   "source": []
  },
  {
   "cell_type": "code",
   "execution_count": 23,
   "metadata": {},
   "outputs": [
    {
     "name": "stdout",
     "output_type": "stream",
     "text": [
      "Epoch 1/10\n",
      "251/251 [==============================] - 219s - loss: 0.4571 - acc: 0.9079 - val_loss: 0.1645 - val_acc: 0.9418\n",
      "Epoch 2/10\n",
      "251/251 [==============================] - 220s - loss: 0.2093 - acc: 0.9311 - val_loss: 0.1569 - val_acc: 0.9425\n",
      "Epoch 3/10\n",
      "251/251 [==============================] - 220s - loss: 0.1825 - acc: 0.9367 - val_loss: 0.1501 - val_acc: 0.9472\n",
      "Epoch 4/10\n",
      "251/251 [==============================] - 220s - loss: 0.1679 - acc: 0.9398 - val_loss: 0.1498 - val_acc: 0.9481\n",
      "Epoch 5/10\n",
      "251/251 [==============================] - 220s - loss: 0.1576 - acc: 0.9430 - val_loss: 0.1545 - val_acc: 0.9460\n",
      "Epoch 6/10\n",
      "251/251 [==============================] - 221s - loss: 0.1471 - acc: 0.9450 - val_loss: 0.1448 - val_acc: 0.9499\n",
      "Epoch 7/10\n",
      "251/251 [==============================] - 221s - loss: 0.1425 - acc: 0.9463 - val_loss: 0.1406 - val_acc: 0.9481\n",
      "Epoch 8/10\n",
      "251/251 [==============================] - 220s - loss: 0.1369 - acc: 0.9483 - val_loss: 0.1448 - val_acc: 0.9495\n",
      "Epoch 9/10\n",
      "251/251 [==============================] - 221s - loss: 0.1314 - acc: 0.9495 - val_loss: 0.1391 - val_acc: 0.9504\n",
      "Epoch 10/10\n",
      "251/251 [==============================] - 220s - loss: 0.1272 - acc: 0.9509 - val_loss: 0.1402 - val_acc: 0.9514\n"
     ]
    },
    {
     "data": {
      "text/plain": [
       "<keras.callbacks.History at 0x7f163157d150>"
      ]
     },
     "execution_count": 23,
     "metadata": {},
     "output_type": "execute_result"
    }
   ],
   "source": [
    "#model.fit_generator(train_batches, \n",
    "#                    samples_per_epoch=train_batches.n,\n",
    "#                    validation_data=valid_batches,\n",
    "#                    nb_val_samples=valid_batches.n,\n",
    "#                    epochs=1)\n",
    "\n",
    "model.fit_generator(train_batches, \n",
    "                    steps_per_epoch=train_batches.n//batch_size+1,\n",
    "                    validation_data=valid_batches,\n",
    "                    validation_steps=valid_batches.n//batch_size+1,\n",
    "                    epochs=10,\n",
    "                   callbacks=callbacks)\n",
    "\n",
    "#model.fit(x_train, y_train, validation_data=(x_valid, y_valid), callbacks=callbacks, batch_size=32, epochs=1)"
   ]
  },
  {
   "cell_type": "code",
   "execution_count": 30,
   "metadata": {},
   "outputs": [
    {
     "name": "stdout",
     "output_type": "stream",
     "text": [
      "Epoch 1/100\n",
      "251/251 [==============================] - 219s - loss: 0.1272 - acc: 0.9504 - val_loss: 0.1416 - val_acc: 0.9502\n",
      "Epoch 2/100\n",
      "251/251 [==============================] - 220s - loss: 0.1261 - acc: 0.9498 - val_loss: 0.1486 - val_acc: 0.9500\n",
      "Epoch 3/100\n",
      "251/251 [==============================] - 219s - loss: 0.1222 - acc: 0.9514 - val_loss: 0.1512 - val_acc: 0.9509\n",
      "Epoch 4/100\n",
      "251/251 [==============================] - 220s - loss: 0.1183 - acc: 0.9527 - val_loss: 0.1645 - val_acc: 0.9511\n",
      "Epoch 5/100\n",
      "251/251 [==============================] - 220s - loss: 0.1191 - acc: 0.9523 - val_loss: 0.1589 - val_acc: 0.9507\n",
      "Epoch 6/100\n",
      "251/251 [==============================] - 220s - loss: 0.1138 - acc: 0.9533 - val_loss: 0.1539 - val_acc: 0.9491\n",
      "Epoch 7/100\n",
      "251/251 [==============================] - 220s - loss: 0.1132 - acc: 0.9538 - val_loss: 0.1656 - val_acc: 0.9503\n"
     ]
    },
    {
     "data": {
      "text/plain": [
       "<keras.callbacks.History at 0x7f161f995450>"
      ]
     },
     "execution_count": 30,
     "metadata": {},
     "output_type": "execute_result"
    }
   ],
   "source": [
    "model.fit_generator(train_batches, \n",
    "                    steps_per_epoch=train_batches.n//batch_size+1,\n",
    "                    validation_data=valid_batches,\n",
    "                    validation_steps=valid_batches.n//batch_size+1,\n",
    "                    epochs=100,\n",
    "                   callbacks=callbacks)"
   ]
  },
  {
   "cell_type": "code",
   "execution_count": 20,
   "metadata": {
    "collapsed": true
   },
   "outputs": [],
   "source": [
    "model.load_weights(save_path + 'model/vgg16_pretrained_keras2.h5', by_name=True)"
   ]
  },
  {
   "cell_type": "code",
   "execution_count": 24,
   "metadata": {
    "collapsed": true
   },
   "outputs": [],
   "source": [
    "valid_pred = model.predict(x_valid, verbose=2, batch_size=batch_size)"
   ]
  },
  {
   "cell_type": "code",
   "execution_count": 25,
   "metadata": {},
   "outputs": [
    {
     "data": {
      "text/plain": [
       "array([False, False, False,  True, False, False,  True,  True, False,\n",
       "       False, False, False, False, False, False,  True, False], dtype=bool)"
      ]
     },
     "execution_count": 25,
     "metadata": {},
     "output_type": "execute_result"
    }
   ],
   "source": [
    "valid_pred[0] > 0.2"
   ]
  },
  {
   "cell_type": "code",
   "execution_count": 26,
   "metadata": {},
   "outputs": [
    {
     "data": {
      "text/plain": [
       "array([ 0.,  0.,  0.,  1.,  0.,  0.,  1.,  1.,  0.,  0.,  0.,  0.,  0.,\n",
       "        0.,  0.,  0.,  0.])"
      ]
     },
     "execution_count": 26,
     "metadata": {},
     "output_type": "execute_result"
    }
   ],
   "source": [
    "y_valid[0]"
   ]
  },
  {
   "cell_type": "code",
   "execution_count": 27,
   "metadata": {},
   "outputs": [
    {
     "data": {
      "text/plain": [
       "0.88984582660242684"
      ]
     },
     "execution_count": 27,
     "metadata": {},
     "output_type": "execute_result"
    }
   ],
   "source": [
    "fbeta_score(y_valid, np.array(valid_pred) > 0.2, beta=2, average='samples')"
   ]
  },
  {
   "cell_type": "markdown",
   "metadata": {},
   "source": [
    "# predict test data"
   ]
  },
  {
   "cell_type": "code",
   "execution_count": 25,
   "metadata": {},
   "outputs": [
    {
     "data": {
      "text/plain": [
       "(61191, '/cinc/data/planet_amazon/train-jpg/../test-jpg-all/test_1347.jpg')"
      ]
     },
     "execution_count": 25,
     "metadata": {},
     "output_type": "execute_result"
    }
   ],
   "source": [
    "#files = glob.glob(data_path + '../test-jpg/*.jpg')\n",
    "files = glob.glob(data_path + '../test-jpg-all/*.jpg')\n",
    "n_test = len(files)\n",
    "n_test, files[0]"
   ]
  },
  {
   "cell_type": "code",
   "execution_count": 29,
   "metadata": {
    "collapsed": true
   },
   "outputs": [],
   "source": [
    "def predict_batch(files, start, end):\n",
    "    files_batch = files[start:end]\n",
    "    n_batch = len(files_batch)\n",
    "\n",
    "    x_test = np.empty([n_batch, 224, 224, 3])\n",
    "    for i in range(n_batch):\n",
    "        #print i, labels_train['image_name'][i]\n",
    "        img = load_img(files_batch[i])\n",
    "        #img = img.resize((224, 224))\n",
    "        x = img_to_array(img.resize((224, 224)))\n",
    "        x_test[i] = x\n",
    "\n",
    "    return model.predict(x_test, batch_size=128, verbose=2)\n"
   ]
  },
  {
   "cell_type": "code",
   "execution_count": 30,
   "metadata": {},
   "outputs": [
    {
     "name": "stderr",
     "output_type": "stream",
     "text": [
      "100%|██████████| 6/6 [23:38<00:00, 227.21s/it]\n"
     ]
    }
   ],
   "source": [
    "batch_size = 10240\n",
    "\n",
    "for i in tqdm(range(len(files) / batch_size + 1)):\n",
    "    #print i\n",
    "    start = i*batch_size\n",
    "    end   = min((i+1)*batch_size, len(files))\n",
    "    batch_pred = predict_batch(files, start, end)\n",
    "    if (i == 0):\n",
    "        test_pred = batch_pred\n",
    "    else:\n",
    "        test_pred = np.vstack((test_pred, batch_pred))"
   ]
  },
  {
   "cell_type": "code",
   "execution_count": 18,
   "metadata": {},
   "outputs": [],
   "source": [
    "#save_array(save_path + 'test_pred_vgg16', test_pred)\n",
    "test_pred = load_array(save_path + 'test_pred_vgg16')"
   ]
  },
  {
   "cell_type": "code",
   "execution_count": 41,
   "metadata": {
    "collapsed": true
   },
   "outputs": [],
   "source": [
    "#test_pred = model.predict_proba(x_test, batch_size=128, verbose=2)\n",
    "#id_tag"
   ]
  },
  {
   "cell_type": "code",
   "execution_count": 19,
   "metadata": {},
   "outputs": [
    {
     "data": {
      "text/plain": [
       "(array([  3.97341182e-07,   9.98804927e-01,   3.02211731e-03,\n",
       "          9.99992251e-01,   4.64103589e-10,   2.79540930e-12,\n",
       "          9.95468814e-03,   3.09968309e-05,   1.20625561e-02,\n",
       "          8.10933532e-04,   1.28470861e-08,   5.13541345e-05,\n",
       "          9.87595831e-06,   1.24116792e-04,   1.43487593e-02,\n",
       "          1.27202459e-03,   1.07647502e-03], dtype=float32),\n",
       " array([False,  True, False,  True, False, False, False, False, False,\n",
       "        False, False, False, False, False, False, False, False], dtype=bool))"
      ]
     },
     "execution_count": 19,
     "metadata": {},
     "output_type": "execute_result"
    }
   ],
   "source": [
    "test_pred[0], test_pred[0] > 0.1\n",
    "#1 in [1,4,7,9]"
   ]
  },
  {
   "cell_type": "code",
   "execution_count": 20,
   "metadata": {},
   "outputs": [
    {
     "name": "stdout",
     "output_type": "stream",
     "text": [
      "clear primary\n",
      "primary clear\n"
     ]
    }
   ],
   "source": [
    "# [False, True, True] {0: clear, 1: primary, 2: cloudy} => [primary, cloudy]\n",
    "def boolsToTags(bools, id_tag_map):\n",
    "    tags = []\n",
    "    for i in range(len(bools)):\n",
    "        #print bools[i]\n",
    "        if bools[i]:\n",
    "            tags.append(id_tag_map[i])\n",
    "    return tags\n",
    "\n",
    "# only choose the biggest probability for atomespheric tags\n",
    "def probsToTagsAtom(probs, threshold, id_tag_map):\n",
    "    tags = []\n",
    "    atomIndex = -1\n",
    "    atomProb = 0.0\n",
    "    for i in range(len(probs)):\n",
    "        #print bools[i]\n",
    "        if (i in [1,4,7,9]):\n",
    "            #print i, probs[i]\n",
    "            if (atomProb < probs[i]):\n",
    "                #print 'assign atom'\n",
    "                atomProb = probs[i]\n",
    "                atomIndex = i;\n",
    "        else:\n",
    "            if probs[i] > threshold:\n",
    "                tags.append(id_tag_map[i])\n",
    "    tags.append(id_tag_map[atomIndex])\n",
    "    return tags\n",
    "\n",
    "#id_tag[0]\n",
    "#boolsToTags(test_pred[0] > 0.2, id_tag)\n",
    "print ' '.join(boolsToTags(test_pred[0] > 0.1, id_tag))\n",
    "print ' '.join(probsToTagsAtom(test_pred[0], 0.1, id_tag))"
   ]
  },
  {
   "cell_type": "code",
   "execution_count": 21,
   "metadata": {},
   "outputs": [
    {
     "data": {
      "text/plain": [
       "['primary clear',\n",
       " 'primary water cultivation agriculture clear',\n",
       " 'primary habitation agriculture road clear',\n",
       " 'primary cultivation habitation agriculture road clear',\n",
       " 'primary clear']"
      ]
     },
     "execution_count": 21,
     "metadata": {},
     "output_type": "execute_result"
    }
   ],
   "source": [
    "test_tags = []\n",
    "for i in range(len(test_pred)):\n",
    "    test_tags.append( ' '.join(probsToTagsAtom(test_pred[i], 0.2, id_tag))  )\n",
    "test_tags[:5]"
   ]
  },
  {
   "cell_type": "code",
   "execution_count": 22,
   "metadata": {
    "collapsed": true
   },
   "outputs": [],
   "source": [
    "#df_test = pd.read_csv('/cinc/data/planet_amazon/submission/sample_submission.csv')\n",
    "df_test = pd.read_csv('/cinc/data/planet_amazon/submission/sample_submission_v2.csv')\n",
    "#df_test = df_test[0:20522]"
   ]
  },
  {
   "cell_type": "code",
   "execution_count": 26,
   "metadata": {},
   "outputs": [],
   "source": [
    "df_test['image_name'] = files\n",
    "df_test['image_name'] = df_test['image_name'].apply(lambda x: x.split('/')[7].split('.')[0])\n",
    "df_test['tags'] = test_tags"
   ]
  },
  {
   "cell_type": "code",
   "execution_count": 27,
   "metadata": {},
   "outputs": [
    {
     "data": {
      "text/html": [
       "<div>\n",
       "<style>\n",
       "    .dataframe thead tr:only-child th {\n",
       "        text-align: right;\n",
       "    }\n",
       "\n",
       "    .dataframe thead th {\n",
       "        text-align: left;\n",
       "    }\n",
       "\n",
       "    .dataframe tbody tr th {\n",
       "        vertical-align: top;\n",
       "    }\n",
       "</style>\n",
       "<table border=\"1\" class=\"dataframe\">\n",
       "  <thead>\n",
       "    <tr style=\"text-align: right;\">\n",
       "      <th></th>\n",
       "      <th>image_name</th>\n",
       "      <th>tags</th>\n",
       "    </tr>\n",
       "  </thead>\n",
       "  <tbody>\n",
       "    <tr>\n",
       "      <th>0</th>\n",
       "      <td>test_1347</td>\n",
       "      <td>primary clear</td>\n",
       "    </tr>\n",
       "    <tr>\n",
       "      <th>1</th>\n",
       "      <td>file_1426</td>\n",
       "      <td>primary water cultivation agriculture clear</td>\n",
       "    </tr>\n",
       "    <tr>\n",
       "      <th>2</th>\n",
       "      <td>file_18643</td>\n",
       "      <td>primary habitation agriculture road clear</td>\n",
       "    </tr>\n",
       "    <tr>\n",
       "      <th>3</th>\n",
       "      <td>test_8038</td>\n",
       "      <td>primary cultivation habitation agriculture roa...</td>\n",
       "    </tr>\n",
       "    <tr>\n",
       "      <th>4</th>\n",
       "      <td>test_17609</td>\n",
       "      <td>primary clear</td>\n",
       "    </tr>\n",
       "  </tbody>\n",
       "</table>\n",
       "</div>"
      ],
      "text/plain": [
       "   image_name                                               tags\n",
       "0   test_1347                                      primary clear\n",
       "1   file_1426        primary water cultivation agriculture clear\n",
       "2  file_18643          primary habitation agriculture road clear\n",
       "3   test_8038  primary cultivation habitation agriculture roa...\n",
       "4  test_17609                                      primary clear"
      ]
     },
     "execution_count": 27,
     "metadata": {},
     "output_type": "execute_result"
    }
   ],
   "source": [
    "df_test.head()"
   ]
  },
  {
   "cell_type": "code",
   "execution_count": 28,
   "metadata": {
    "collapsed": true
   },
   "outputs": [],
   "source": [
    "df_test.to_csv(data_path + '../submission/vgg16_pretrain_patient10_atom_20170521.csv', index=False)"
   ]
  },
  {
   "cell_type": "code",
   "execution_count": null,
   "metadata": {
    "collapsed": true
   },
   "outputs": [],
   "source": []
  }
 ],
 "metadata": {
  "anaconda-cloud": {},
  "kernelspec": {
   "display_name": "Python [default]",
   "language": "python",
   "name": "python2"
  },
  "language_info": {
   "codemirror_mode": {
    "name": "ipython",
    "version": 2
   },
   "file_extension": ".py",
   "mimetype": "text/x-python",
   "name": "python",
   "nbconvert_exporter": "python",
   "pygments_lexer": "ipython2",
   "version": "2.7.13"
  }
 },
 "nbformat": 4,
 "nbformat_minor": 2
}
